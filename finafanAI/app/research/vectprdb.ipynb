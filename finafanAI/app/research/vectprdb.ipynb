{
 "cells": [
  {
   "cell_type": "code",
   "execution_count": 8,
   "metadata": {},
   "outputs": [],
   "source": [
    "from langchain_community.vectorstores import Chroma\n",
    "from langchain_openai import OpenAIEmbeddings\n",
    "from langchain_core.documents import Document\n",
    "import wikipedia\n",
    "import os\n"
   ]
  },
  {
   "cell_type": "code",
   "execution_count": 9,
   "metadata": {},
   "outputs": [],
   "source": [
    "embeddings = OpenAIEmbeddings()\n",
    "vector_db = Chroma(persist_directory=\"./person_db\", embedding_function=embeddings)"
   ]
  },
  {
   "cell_type": "code",
   "execution_count": 10,
   "metadata": {},
   "outputs": [],
   "source": [
    "person_list = [\n",
    "    \"김수희\", \"조용필\", \"홍진영\", \"장윤정\", \"심수봉\", \"최백호\", \"박현빈\", \"나훈아\", \"오승근\", \"남진\",\n",
    "    \"박상철\", \"강진\", \"윤수일\", \"진성\", \"최진희\", \"대성\", \"추가열\", \"이미자\", \"송대관\", \"서주경\",\n",
    "    \"조항조\", \"이애란\", \"이자연\", \"배일호\", \"김국환\", \"임주리\", \"이난영\", \"주병선\", \"문주란\", \"최유나\",\n",
    "    \"김세레나\", \"배호\", \"함중아\", \"김태희\", \"주현미\", \"윤희상\", \"태진아\", \"슈퍼주니어T\", \"문성재\", \"편승엽\",\n",
    "    \"김영철\", \"현철\", \"혜은이\", \"박주희\", \"설운도\", \"이박사\", \"정동원\", \"영탁\", \"이찬원\", \"임영웅\",\n",
    "    \"김호중\", \"장민호\", \"송가인\", \"박군\", \"김연자\", \"나미애\", \"김용임\", \"박서진\", \"한혜진\", \"조정민\",\n",
    "    \"금잔디\", \"김혜연\", \"박상민\", \"서지오\", \"이진관\", \"이범학\", \"이상우\", \"김정수\", \"김정민\", \"박강성\",\n",
    "    \"박남정\", \"박미경\", \"박일준\", \"박진광\", \"박진석\", \"박진영\", \"박혜신\", \"방실이\", \"배금성\", \"배성\",\n",
    "    \"배호\", \"백난아\", \"백년설\", \"백영규\", \"백지영\", \"변진섭\", \"봉봉사중창단\", \"봉순이\", \"봉재희\", \"부용\",\n",
    "    \"분이\", \"비비안\", \"빈대떡신사\", \"사미자\", \"사월과 오월\", \"산울림\", \"삼태기\", \"상사화\", \"서금랑\"\n",
    "]"
   ]
  },
  {
   "cell_type": "code",
   "execution_count": 11,
   "metadata": {},
   "outputs": [
    {
     "name": "stderr",
     "output_type": "stream",
     "text": [
      "c:\\Users\\SSAFY\\Desktop\\project_2\\S12P21A702\\finafanAI\\myenv\\lib\\site-packages\\wikipedia\\wikipedia.py:389: GuessedAtParserWarning: No parser was explicitly specified, so I'm using the best available HTML parser for this system (\"html.parser\"). This usually isn't a problem, but if you run this code on another system, or in a different virtual environment, it may use a different parser and behave differently.\n",
      "\n",
      "The code that caused this warning is on line 389 of the file c:\\Users\\SSAFY\\Desktop\\project_2\\S12P21A702\\finafanAI\\myenv\\lib\\site-packages\\wikipedia\\wikipedia.py. To get rid of this warning, pass the additional argument 'features=\"html.parser\"' to the BeautifulSoup constructor.\n",
      "\n",
      "  lis = BeautifulSoup(html).find_all('li')\n"
     ]
    },
    {
     "ename": "",
     "evalue": "",
     "output_type": "error",
     "traceback": [
      "\u001b[1;31mThe Kernel crashed while executing code in the current cell or a previous cell. \n",
      "\u001b[1;31mPlease review the code in the cell(s) to identify a possible cause of the failure. \n",
      "\u001b[1;31mClick <a href='https://aka.ms/vscodeJupyterKernelCrash'>here</a> for more info. \n",
      "\u001b[1;31mView Jupyter <a href='command:jupyter.viewOutput'>log</a> for further details."
     ]
    }
   ],
   "source": [
    "wikipedia.set_lang(\"ko\") \n",
    "\n",
    "def get_wiki_info(name: str) -> str | None:\n",
    "    try:\n",
    "        results = wikipedia.search(name)\n",
    "        if not results:\n",
    "            return None\n",
    "\n",
    "        best_match = results[0]\n",
    "        summary = wikipedia.summary(best_match, sentences=3, auto_suggest=False)\n",
    "        return f\"{best_match}\\n{summary}\"\n",
    "    except:\n",
    "        return None\n",
    "\n",
    "# 4. 문서 생성\n",
    "documents = []\n",
    "for name in person_list:\n",
    "    info = get_wiki_info(name)\n",
    "    if info:\n",
    "        doc = Document(page_content=info, metadata={\"name\": name})\n",
    "        documents.append(doc)\n",
    "\n",
    "# 5. 벡터 DB에 추가\n",
    "if documents:\n",
    "    vector_db.add_documents(documents)\n",
    "    print(f\"✅ {len(documents)}명의 인물 정보를 ChromaDB에 저장 완료!\")\n",
    "else:\n",
    "    print(\"❌ 저장할 정보가 없습니다.\")"
   ]
  },
  {
   "cell_type": "code",
   "execution_count": null,
   "metadata": {},
   "outputs": [],
   "source": [
    "vector_db = Chroma(persist_directory=\"./singer_db\", embedding_function=embeddings)"
   ]
  },
  {
   "cell_type": "code",
   "execution_count": 7,
   "metadata": {},
   "outputs": [
    {
     "name": "stdout",
     "output_type": "stream",
     "text": [
      "Lim Young-woong\n",
      "Lim Young-woong (Korean: 임영웅; born June 16, 1991) is a South Korean ballad, pop, and trot singer, entertainer, and YouTuber. He signed with Mulgogi Music in 2016 and debuted as a singer with his first single \"Hate You\". Four years later, he rose to stardom after competing on the reality television show Mr.\n",
      "Lim Young-woong\n",
      "Lim Young-woong (Korean: 임영웅; born June 16, 1991) is a South Korean ballad, pop, and trot singer, entertainer, and YouTuber. He signed with Mulgogi Music in 2016 and debuted as a singer with his first single \"Hate You\". Four years later, he rose to stardom after competing on the reality television show Mr.\n",
      "Young Tak\n",
      "Park Young-tak (born 13 May 1983), credited mononymously as Young Tak (Korean: 영탁, commonly stylized as YOUNGTAK), is a South Korean singer, songwriter, actor and television personality. He made his debut in 2007 as a ballad singer with his 1st album Young Tak Disia. In 2016, he started his trot career with the release of his first trot single album, Nuna You Are Perfect.\n",
      "Jinyoung (entertainer, born 1994)\n",
      "Park Jin-young (Korean: 박진영; born September 22, 1994), known mononymously as Jinyoung, and formerly as Jr. and Junior, is a South Korean singer, actor, and songwriter. He is a member of the boy band Got7 and boy band duo JJ Project.\n"
     ]
    }
   ],
   "source": [
    "retriever = vector_db.as_retriever()\n",
    "docs = retriever.get_relevant_documents(\"임영웅 생일 알려줘\")\n",
    "\n",
    "for doc in docs:\n",
    "    print(doc.page_content)"
   ]
  },
  {
   "cell_type": "code",
   "execution_count": null,
   "metadata": {},
   "outputs": [],
   "source": []
  }
 ],
 "metadata": {
  "kernelspec": {
   "display_name": "myenv",
   "language": "python",
   "name": "python3"
  },
  "language_info": {
   "codemirror_mode": {
    "name": "ipython",
    "version": 3
   },
   "file_extension": ".py",
   "mimetype": "text/x-python",
   "name": "python",
   "nbconvert_exporter": "python",
   "pygments_lexer": "ipython3",
   "version": "3.10.11"
  }
 },
 "nbformat": 4,
 "nbformat_minor": 2
}
