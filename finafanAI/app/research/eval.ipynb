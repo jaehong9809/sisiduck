{
 "cells": [
  {
   "cell_type": "code",
   "execution_count": 3,
   "id": "5ff7c53c",
   "metadata": {},
   "outputs": [
    {
     "name": "stderr",
     "output_type": "stream",
     "text": [
      "Evaluating: 100%|██████████| 30/30 [00:38<00:00,  1.27s/it]\n",
      "Evaluating: 100%|██████████| 30/30 [00:30<00:00,  1.00s/it]\n"
     ]
    },
    {
     "name": "stdout",
     "output_type": "stream",
     "text": [
      "🔹 ChainRouter 결과: {'faithfulness': 0.9889, 'answer_relevancy': 0.6942}\n",
      "🔹 Agent 결과: {'faithfulness': 0.9833, 'answer_relevancy': 0.6946}\n"
     ]
    }
   ],
   "source": [
    "from datasets import Dataset\n",
    "from ragas.metrics import faithfulness, answer_relevancy, context_precision\n",
    "from ragas import evaluate\n",
    "import pandas as pd\n",
    "\n",
    "# 엑셀 파일 불러오기\n",
    "df = pd.read_excel(\"모델 비교.xlsx\").head(15)\n",
    "\n",
    "# ChainRouter 평가용 Dataset\n",
    "chainrouter_dataset = Dataset.from_pandas(df.rename(columns={\n",
    "    \"질문\": \"question\",\n",
    "    \"ChainRouter\": \"answer\"\n",
    "}).assign(contexts=lambda x: [[a] for a in x[\"answer\"]]))\n",
    "\n",
    "# Agent 평가용 Dataset\n",
    "agent_dataset = Dataset.from_pandas(df.rename(columns={\n",
    "    \"질문\": \"question\",\n",
    "    \"Agent\": \"answer\"\n",
    "}).assign(contexts=lambda x: [[a] for a in x[\"answer\"]]))\n",
    "\n",
    "# 평가 수행\n",
    "metrics = [faithfulness, answer_relevancy]\n",
    "chainrouter_result = evaluate(chainrouter_dataset, metrics=metrics)\n",
    "agent_result = evaluate(agent_dataset, metrics=metrics)\n",
    "\n",
    "print(\"🔹 ChainRouter 결과:\", chainrouter_result)\n",
    "print(\"🔹 Agent 결과:\", agent_result)"
   ]
  },
  {
   "cell_type": "code",
   "execution_count": 8,
   "id": "ed80e770",
   "metadata": {},
   "outputs": [
    {
     "name": "stderr",
     "output_type": "stream",
     "text": [
      "Evaluating: 100%|██████████| 14/14 [00:23<00:00,  1.68s/it]\n",
      "Evaluating: 100%|██████████| 14/14 [00:26<00:00,  1.93s/it]\n"
     ]
    },
    {
     "name": "stdout",
     "output_type": "stream",
     "text": [
      "🔹 ChainRouter (ragas)\n",
      "{'answer_correctness': 0.3977, 'answer_relevancy': 0.7286}\n",
      "\n",
      "🔹 Agent (ragas)\n",
      "{'answer_correctness': 0.5776, 'answer_relevancy': 0.6236}\n"
     ]
    },
    {
     "name": "stderr",
     "output_type": "stream",
     "text": [
      "c:\\Users\\SSAFY\\Desktop\\project_2\\S12P21A702\\finafanAI\\myenv\\lib\\site-packages\\huggingface_hub\\file_download.py:140: UserWarning: `huggingface_hub` cache-system uses symlinks by default to efficiently store duplicated files but your machine does not support them in C:\\Users\\SSAFY\\.cache\\huggingface\\hub\\models--bert-base-multilingual-cased. Caching files will still work but in a degraded version that might require more space on your disk. This warning can be disabled by setting the `HF_HUB_DISABLE_SYMLINKS_WARNING` environment variable. For more details, see https://huggingface.co/docs/huggingface_hub/how-to-cache#limitations.\n",
      "To support symlinks on Windows, you either need to activate Developer Mode or to run Python as an administrator. In order to activate developer mode, see this article: https://docs.microsoft.com/en-us/windows/apps/get-started/enable-your-device-for-development\n",
      "  warnings.warn(message)\n"
     ]
    },
    {
     "name": "stdout",
     "output_type": "stream",
     "text": [
      "\n",
      "🔹 ChainRouter (BERTScore)\n",
      "Precision: 0.6000\n",
      "Recall:    0.6777\n",
      "F1:        0.6345\n",
      "\n",
      "🔹 Agent (BERTScore)\n",
      "Precision: 0.6418\n",
      "Recall:    0.7301\n",
      "F1:        0.6823\n"
     ]
    }
   ],
   "source": [
    "import pandas as pd\n",
    "from datasets import Dataset\n",
    "from ragas import evaluate\n",
    "from ragas.metrics import answer_correctness, answer_relevancy\n",
    "import evaluate as hf_evaluate\n",
    "\n",
    "# 엑셀 파일 로드\n",
    "df = pd.read_excel(\"aa.xlsx\")\n",
    "\n",
    "# ChainRouter 평가용 데이터셋 구성\n",
    "chain_ds = Dataset.from_pandas(df.rename(columns={\n",
    "    \"question\": \"question\",\n",
    "    \"ChainRouter\": \"answer\",\n",
    "    \"Ground_thruth\": \"ground_truth\"\n",
    "}).assign(contexts=lambda x: [[a] for a in x[\"answer\"]]))\n",
    "\n",
    "# Agent 평가용 데이터셋 구성\n",
    "agent_ds = Dataset.from_pandas(df.rename(columns={\n",
    "    \"question\": \"question\",\n",
    "    \"Agent\": \"answer\",\n",
    "    \"Ground_thruth\": \"ground_truth\"\n",
    "}).assign(contexts=lambda x: [[a] for a in x[\"answer\"]]))\n",
    "\n",
    "# ragas 평가\n",
    "metrics = [answer_correctness, answer_relevancy]\n",
    "chain_result = evaluate(chain_ds, metrics=metrics)\n",
    "agent_result = evaluate(agent_ds, metrics=metrics)\n",
    "\n",
    "print(\"🔹 ChainRouter (ragas)\")\n",
    "print(chain_result)\n",
    "\n",
    "print(\"\\n🔹 Agent (ragas)\")\n",
    "print(agent_result)\n",
    "\n",
    "# -----------------------\n",
    "# BERTScore 평가 추가\n",
    "# -----------------------\n",
    "bertscore = hf_evaluate.load(\"bertscore\")\n",
    "\n",
    "# 평가용 텍스트 추출\n",
    "chain_preds = df[\"ChainRouter\"].tolist()\n",
    "agent_preds = df[\"Agent\"].tolist()\n",
    "references = df[\"Ground_thruth\"].tolist()\n",
    "\n",
    "# BERTScore 평가\n",
    "chain_bertscore = bertscore.compute(predictions=chain_preds, references=references, lang=\"ko\")\n",
    "agent_bertscore = bertscore.compute(predictions=agent_preds, references=references, lang=\"ko\")\n",
    "\n",
    "# 평균 점수 출력\n",
    "print(\"\\n🔹 ChainRouter (BERTScore)\")\n",
    "print(f\"Precision: {sum(chain_bertscore['precision'])/len(chain_bertscore['precision']):.4f}\")\n",
    "print(f\"Recall:    {sum(chain_bertscore['recall'])/len(chain_bertscore['recall']):.4f}\")\n",
    "print(f\"F1:        {sum(chain_bertscore['f1'])/len(chain_bertscore['f1']):.4f}\")\n",
    "\n",
    "print(\"\\n🔹 Agent (BERTScore)\")\n",
    "print(f\"Precision: {sum(agent_bertscore['precision'])/len(agent_bertscore['precision']):.4f}\")\n",
    "print(f\"Recall:    {sum(agent_bertscore['recall'])/len(agent_bertscore['recall']):.4f}\")\n",
    "print(f\"F1:        {sum(agent_bertscore['f1'])/len(agent_bertscore['f1']):.4f}\")\n"
   ]
  },
  {
   "cell_type": "code",
   "execution_count": 10,
   "id": "226bf212",
   "metadata": {},
   "outputs": [
    {
     "name": "stderr",
     "output_type": "stream",
     "text": [
      "Evaluating: 100%|██████████| 30/30 [00:30<00:00,  1.00s/it]\n",
      "Evaluating: 100%|██████████| 30/30 [00:36<00:00,  1.21s/it]\n"
     ]
    },
    {
     "name": "stdout",
     "output_type": "stream",
     "text": [
      "🔹 ChainRouter (ragas 평가)\n",
      "{'answer_correctness': 0.3336, 'answer_relevancy': 0.7452}\n",
      "\n",
      "🔹 Agent (ragas 평가)\n",
      "{'answer_correctness': 0.3522, 'answer_relevancy': 0.6954}\n",
      "\n",
      "🔹 ChainRouter (BERTScore)\n",
      "Precision: 0.6188\n",
      "Recall:    0.6722\n",
      "F1:        0.6437\n",
      "\n",
      "🔹 Agent (BERTScore)\n",
      "Precision: 0.6167\n",
      "Recall:    0.6759\n",
      "F1:        0.6442\n"
     ]
    }
   ],
   "source": [
    "import pandas as pd\n",
    "from datasets import Dataset\n",
    "from ragas import evaluate\n",
    "from ragas.metrics import answer_correctness, answer_relevancy\n",
    "import evaluate as hf_evaluate\n",
    "\n",
    "# 엑셀 파일 불러오기\n",
    "df = pd.read_excel(\"모델 비교.xlsx\").dropna(subset=[\"ChainRouter\", \"Agent\", \"Ground_Truth\"])\n",
    "\n",
    "# ragas 평가용 데이터셋 구성\n",
    "def make_dataset(answer_column):\n",
    "    return Dataset.from_pandas(df.rename(columns={\n",
    "        \"질문\": \"question\",\n",
    "        answer_column: \"answer\",\n",
    "        \"Ground_Truth\": \"ground_truth\"\n",
    "    }).assign(contexts=lambda x: [[a] for a in x[\"answer\"]]))\n",
    "\n",
    "# ChainRouter와 Agent용 데이터셋\n",
    "chain_ds = make_dataset(\"ChainRouter\")\n",
    "agent_ds = make_dataset(\"Agent\")\n",
    "\n",
    "# ragas 평가 실행\n",
    "metrics = [answer_correctness, answer_relevancy]\n",
    "chain_result = evaluate(chain_ds, metrics=metrics)\n",
    "agent_result = evaluate(agent_ds, metrics=metrics)\n",
    "\n",
    "print(\"🔹 ChainRouter (ragas 평가)\")\n",
    "print(chain_result)\n",
    "\n",
    "print(\"\\n🔹 Agent (ragas 평가)\")\n",
    "print(agent_result)\n",
    "\n",
    "# -----------------------------\n",
    "# BERTScore 평가\n",
    "# -----------------------------\n",
    "bertscore = hf_evaluate.load(\"bertscore\")\n",
    "\n",
    "chain_preds = df[\"ChainRouter\"].tolist()\n",
    "agent_preds = df[\"Agent\"].tolist()\n",
    "references = df[\"Ground_Truth\"].tolist()\n",
    "\n",
    "chain_bertscore = bertscore.compute(predictions=chain_preds, references=references, lang=\"ko\")\n",
    "agent_bertscore = bertscore.compute(predictions=agent_preds, references=references, lang=\"ko\")\n",
    "\n",
    "print(\"\\n🔹 ChainRouter (BERTScore)\")\n",
    "print(f\"Precision: {sum(chain_bertscore['precision'])/len(chain_bertscore['precision']):.4f}\")\n",
    "print(f\"Recall:    {sum(chain_bertscore['recall'])/len(chain_bertscore['recall']):.4f}\")\n",
    "print(f\"F1:        {sum(chain_bertscore['f1'])/len(chain_bertscore['f1']):.4f}\")\n",
    "\n",
    "print(\"\\n🔹 Agent (BERTScore)\")\n",
    "print(f\"Precision: {sum(agent_bertscore['precision'])/len(agent_bertscore['precision']):.4f}\")\n",
    "print(f\"Recall:    {sum(agent_bertscore['recall'])/len(agent_bertscore['recall']):.4f}\")\n",
    "print(f\"F1:        {sum(agent_bertscore['f1'])/len(agent_bertscore['f1']):.4f}\")\n"
   ]
  },
  {
   "cell_type": "code",
   "execution_count": null,
   "id": "405c20d5",
   "metadata": {},
   "outputs": [],
   "source": []
  }
 ],
 "metadata": {
  "kernelspec": {
   "display_name": "myenv",
   "language": "python",
   "name": "python3"
  },
  "language_info": {
   "codemirror_mode": {
    "name": "ipython",
    "version": 3
   },
   "file_extension": ".py",
   "mimetype": "text/x-python",
   "name": "python",
   "nbconvert_exporter": "python",
   "pygments_lexer": "ipython3",
   "version": "3.10.11"
  }
 },
 "nbformat": 4,
 "nbformat_minor": 5
}
