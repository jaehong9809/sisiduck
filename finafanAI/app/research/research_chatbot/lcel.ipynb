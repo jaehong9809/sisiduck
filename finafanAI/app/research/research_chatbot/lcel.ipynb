{
 "cells": [
  {
   "cell_type": "code",
   "execution_count": 1,
   "metadata": {
    "ExecuteTime": {
     "end_time": "2025-03-24T00:29:06.744671Z",
     "start_time": "2025-03-24T00:29:06.697100Z"
    }
   },
   "outputs": [
    {
     "name": "stderr",
     "output_type": "stream",
     "text": [
      "C:\\Users\\Public\\Documents\\ESTsoft\\CreatorTemp\\ipykernel_17556\\4207146358.py:63: LangChainDeprecationWarning: The class `Chroma` was deprecated in LangChain 0.2.9 and will be removed in 1.0. An updated version of the class exists in the :class:`~langchain-chroma package and should be used instead. To use it run `pip install -U :class:`~langchain-chroma` and import as `from :class:`~langchain_chroma import Chroma``.\n",
      "  vector_db = Chroma(persist_directory=\"finance_chroma_db\", embedding_function=embeddings)\n"
     ]
    }
   ],
   "source": [
    "import os\n",
    "from langchain_openai import ChatOpenAI, OpenAIEmbeddings\n",
    "from langchain_core.runnables import RunnableBranch\n",
    "from langchain_core.prompts import PromptTemplate\n",
    "from langchain_community.utilities.serpapi import SerpAPIWrapper\n",
    "from langchain_community.vectorstores import Chroma\n",
    "from dotenv import load_dotenv\n",
    "from googleapiclient.discovery import build\n",
    "import feedparser\n",
    "from urllib.parse import quote\n",
    "\n",
    "load_dotenv()\n",
    "\n",
    "# 1️⃣ OpenAI LLM 설정\n",
    "llm = ChatOpenAI(model=\"gpt-3.5-turbo\", temperature=0.5)\n",
    "\n",
    "\n",
    "# 2️⃣ SerpAPI 설정\n",
    "\n",
    "# 🔍 뉴스 검색 함수\n",
    "\n",
    "def fast_news_search(query: str) -> str:\n",
    "    print(\"\\n⚡ 빠른 뉴스 검색 실행 중...\\n\")\n",
    "    encoded_query = quote(query)  # 공백 및 한글 인코딩\n",
    "    url = f\"https://news.google.com/rss/search?q={encoded_query}&hl=ko&gl=KR&ceid=KR:ko\"\n",
    "\n",
    "    feed = feedparser.parse(url)\n",
    "    results = []\n",
    "    for entry in feed.entries[:3]:\n",
    "        title = entry.title\n",
    "        link = entry.link\n",
    "        results.append(f\"{title} - {link}\")\n",
    "    print(results)\n",
    "    return \"\\n\".join(results)\n",
    "\n",
    "\n",
    "# 📺 유튜브 검색 함수\n",
    "\n",
    "def youtube_search(query: str, max_results: int = 3) -> str:\n",
    "    print(\"\\n🚀 유튜브 검색 중 (빠르게, 최대 개수 제한!)\\n\")\n",
    "\n",
    "    api_key = os.getenv(\"YOUTUBE_API_KEY\")\n",
    "    youtube = build(\"youtube\", \"v3\", developerKey=api_key)\n",
    "\n",
    "    request = youtube.search().list(\n",
    "        q=query,\n",
    "        part=\"snippet\",\n",
    "        type=\"video\",\n",
    "        maxResults=max_results\n",
    "    )\n",
    "    response = request.execute()\n",
    "\n",
    "    # 👉 필요한 정보만 정리해서 반환 (제목 + 링크)\n",
    "    results = []\n",
    "    for item in response.get(\"items\", []):\n",
    "        video_id = item[\"id\"][\"videoId\"]\n",
    "        title = item[\"snippet\"][\"title\"]\n",
    "        url = f\"https://www.youtube.com/watch?v={video_id}\"\n",
    "        results.append(f\"{title} - {url}\")\n",
    "\n",
    "    return \"\\n\".join(results)\n",
    "\n",
    "\n",
    "# 3️⃣ 금융 상품 검색 (Chroma)\n",
    "embeddings = OpenAIEmbeddings()\n",
    "vector_db = Chroma(persist_directory=\"finance_chroma_db\", embedding_function=embeddings)\n",
    "retriever = vector_db.as_retriever()\n",
    "\n",
    "# 4️⃣ 기능별 프롬프트\n",
    "idol_news_prompt = PromptTemplate.from_template(\n",
    "    \"다음은 '{topic}'에 대한 뉴스 검색 결과입니다. 이 내용을 요약해서 사용자에게 전달해줘:\\n\\n{results}\"\n",
    ")\n",
    "\n",
    "idol_video_prompt = PromptTemplate.from_template(\n",
    "    \"다음은 '{topic}'에 대한 유튜브 영상 검색 결과입니다. 사용자에게 유용한 정보를 정리해서 알려줘:\\n\\n{results}\"\n",
    ")\n",
    "\n",
    "finance_prompt = PromptTemplate.from_template(\n",
    "    \"사용자가 관심 있는 '{interest}' 관련 금융 상품을 추천해줘.\"\n",
    ")\n",
    "\n",
    "default_prompt = PromptTemplate.from_template(\n",
    "    \"너는 시니어 층에게 친절하게 일상대화를 할 수 있는 덕순이라는 캐릭터야 사용자와 친절하게 일상 대화 해줘: {input}\"\n",
    ")\n",
    "\n",
    "# 5️⃣ 체인 구성\n",
    "idol_news_chain = idol_news_prompt | llm\n",
    "idol_video_chain = idol_video_prompt | llm\n",
    "finance_chain = finance_prompt | llm\n",
    "default_chain = default_prompt | llm\n",
    "\n",
    "# 6️⃣ LCEL 기반 라우팅\n",
    "router = RunnableBranch(\n",
    "\n",
    "    (lambda x: x.get(\"type\") == \"video\",\n",
    "     lambda x: idol_video_chain.invoke({\n",
    "         \"topic\": x[\"query\"],\n",
    "         \"results\": youtube_search(x[\"query\"])\n",
    "     })),\n",
    "\n",
    "    (lambda x: x.get(\"type\") == \"news\",\n",
    "     lambda x: idol_news_chain.invoke({\n",
    "         \"topic\": x[\"query\"],\n",
    "         \"results\": fast_news_search(x[\"query\"])\n",
    "     })),\n",
    "\n",
    "    (lambda x: x.get(\"type\") == \"finance\",\n",
    "     lambda x: finance_chain.invoke({\"interest\": x[\"interest\"]})),\n",
    "\n",
    "    lambda x: default_chain.invoke({\"input\": x.get(\"input\", \"\")})\n",
    ")\n",
    "\n"
   ]
  },
  {
   "cell_type": "code",
   "execution_count": 2,
   "metadata": {},
   "outputs": [],
   "source": [
    "def classify_query(user_input: str) -> dict:\n",
    "    text = user_input.lower()\n",
    "    if \"영상\" in text or \"유튜브\" in text:\n",
    "        return {\"type\": \"video\", \"query\": user_input}\n",
    "    elif \"뉴스\" in text or \"기사\" in text:\n",
    "        return {\"type\": \"news\", \"query\": user_input}\n",
    "    elif any(word in text for word in [\"적금\", \"예금\", \"금융\", \"이자\"]):\n",
    "        return {\"type\": \"finance\", \"interest\": user_input}\n",
    "    else:\n",
    "        return {\"type\": \"chat\", \"input\": user_input}"
   ]
  },
  {
   "cell_type": "code",
   "execution_count": 3,
   "metadata": {},
   "outputs": [
    {
     "name": "stdout",
     "output_type": "stream",
     "text": [
      "\n",
      "⚡ 빠른 뉴스 검색 실행 중...\n",
      "\n",
      "['‘기부천사·성실왕’ 이찬원의 아픈 사연...“8년째 집이 안팔려요, 2억에 사실래요?” - 매일경제 - https://news.google.com/rss/articles/CBMiWEFVX3lxTE9lNUNsOVAwYlRwNVZuMFJfcjFVQU53Q2EydWtJaXlBbHFsQVVyRWdoRGUwTTlCcVBrRGcyUEQtQ0htR2dsRkZGQzJ1azFuTVhaN0VTT2JOOXg?oc=5', '이찬원 대상 영예…\"KBS가 낳아주고 길러줘\"(종합) [KBS연예대상] - 뉴스1 - https://news.google.com/rss/articles/CBMiYEFVX3lxTE40RXZ2MDJOb2R2VUt6c3M0bXNVcHdlSWxBMldfOFFnOGhzdmdMWHE1NDFXZUI4SVpLY09pdk5LRWZUdmVFbWt1ZXN5ejVqSlliWXhpLW40T3NxT1laV29CQw?oc=5', '이찬원 \\'69년생 썰\\' 재조명..허경환 \"어떻게 알아?\" 깜짝(셀럽병사의 비밀) - 지피코리아 - https://news.google.com/rss/articles/CBMiakFVX3lxTFA5QmZlV09UWHdxY2tMRzB3VmNzZkVNOFpkcTRndVdGMG9zRV9sSWI3MDJhN1NhN19udHBtbGpLOWtUdjZvcXFnZ3pnVXc1U0F6MkFUWm1GaktRU1RkZFhidWRKaEF2SFF4cFE?oc=5']\n",
      "이찬원이 8년째 집을 팔지 못하고 있어서 어려움을 겪고 있으며, KBS 연예대상을 수상하여 영예를 안았다는 소식이 전해졌습니다. 또한, 이찬원의 69년생 썰이 다시 조명을 받고 있어 허경환이 깜짝 놀라는 모습을 보였습니다.\n"
     ]
    }
   ],
   "source": [
    "response = router.invoke(classify_query(\"이찬원 최신 뉴스 찾아줘\"))\n",
    "print(response.content)"
   ]
  },
  {
   "cell_type": "code",
   "execution_count": null,
   "metadata": {},
   "outputs": [],
   "source": []
  },
  {
   "cell_type": "markdown",
   "metadata": {},
   "source": []
  }
 ],
 "metadata": {
  "kernelspec": {
   "display_name": "myenv",
   "language": "python",
   "name": "python3"
  },
  "language_info": {
   "codemirror_mode": {
    "name": "ipython",
    "version": 3
   },
   "file_extension": ".py",
   "mimetype": "text/x-python",
   "name": "python",
   "nbconvert_exporter": "python",
   "pygments_lexer": "ipython3",
   "version": "3.10.11"
  }
 },
 "nbformat": 4,
 "nbformat_minor": 2
}
