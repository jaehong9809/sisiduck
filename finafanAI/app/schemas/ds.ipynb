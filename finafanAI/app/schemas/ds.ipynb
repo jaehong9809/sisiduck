{
 "cells": [
  {
   "cell_type": "code",
   "id": "initial_id",
   "metadata": {
    "collapsed": true,
    "ExecuteTime": {
     "end_time": "2025-03-19T01:50:44.881348Z",
     "start_time": "2025-03-19T01:50:44.849833Z"
    }
   },
   "source": [
    "from langchain_community.utilities.serpapi import SerpAPIWrapper\n",
    "from langchain.chat_models import ChatOpenAI\n",
    "from langchain.agents import initialize_agent, Tool\n",
    "from langchain.tools import tool\n",
    "from langchain.memory import ConversationBufferMemory\n",
    "import re\n",
    "from dotenv import load_dotenv\n",
    "import os\n",
    "\n",
    "load_dotenv()\n",
    "api_key  = os.getenv(\"OPENAI_API_KEY\")\n",
    "\n",
    "# SerpAPI 설정\n",
    "def search_news(query):\n",
    "    \"\"\" 특정 키워드에 대한 뉴스를 검색하고 기사 제목과 링크를 반환합니다. \"\"\"\n",
    "    serpapi = SerpAPIWrapper()\n",
    "    results = serpapi.run(query + \" 뉴스\")\n",
    "\n",
    "    if isinstance(results, list):\n",
    "        news_list = [f\"{item['title']}: {item['link']}\" for item in results if 'title' in item and 'link' in item]\n",
    "        return news_list\n",
    "    return [\"어르신, 죄송하지만 관련된 뉴스를 찾지 못했어요.\"]\n",
    "\n",
    "# SerpAPI를 이용한 영상 검색 함수\n",
    "# SerpAPI를 이용한 영상 검색 함수 (유튜브 전용 엔진 사용)\n",
    "from langchain_community.utilities.serpapi import SerpAPIWrapper\n",
    "\n",
    "def search_videos(query):\n",
    "    \"\"\"특정 키워드와 관련된 유튜브 동영상을 검색하고 제목과 링크를 반환합니다.\"\"\"\n",
    "\n",
    "    serpapi = SerpAPIWrapper()  # ✅ `params` 없이 초기화\n",
    "    results = serpapi.run(query + \" site:youtube.com\")  # ✅ `run()` 실행 시 `query` 전달\n",
    "\n",
    "    if isinstance(results, dict) and \"video_results\" in results:\n",
    "        video_list = [\n",
    "            f\"{item['title']}: {item['link']}\"\n",
    "            for item in results[\"video_results\"]\n",
    "            if \"title\" in item and \"link\" in item\n",
    "        ]\n",
    "        return video_list if video_list else [\"어르신, 죄송하지만 관련된 유튜브 영상을 찾지 못했어요.\"]\n",
    "\n",
    "    return [\"어르신, 죄송하지만 관련된 유튜브 영상을 찾지 못했어요.\"]\n",
    "\n",
    "\n",
    "# 웹 검색 툴 설정\n",
    "search_tool = Tool(\n",
    "    name=\"Search News\",\n",
    "    func=search_news,\n",
    "    description=\"특정 키워드에 대한 최신 뉴스 제목과 링크를 제공합니다.\"\n",
    ")\n",
    "\n",
    "video_search_tool = Tool(\n",
    "    name=\"Search Videos\",\n",
    "    func=search_videos,\n",
    "    description=\"특정 키워드와 관련된 영상 제목과 링크를 제공합니다.\"\n",
    ")\n",
    "\n",
    "# LLM 모델 설정\n",
    "llm = ChatOpenAI(model_name=\"gpt-3.5-turbo\", temperature=0.7)\n",
    "\n",
    "# 메모리 설정\n",
    "memory = ConversationBufferMemory(memory_key=\"chat_history\")\n",
    "\n",
    "# 에이전트 설정 (자동으로 툴을 활용하게끔 수정)\n",
    "agent = initialize_agent(\n",
    "    tools=[search_tool, video_search_tool],\n",
    "    llm=llm,\n",
    "    agent=\"zero-shot-react-description\",\n",
    "    memory=memory,\n",
    "    verbose=True\n",
    ")\n",
    "\n",
    "def chatbot_response(input_text):\n",
    "    \"\"\" LangChain의 에이전트가 자동으로 툴을 활용하도록 설정하고, 검색 결과를 요약 후 링크 목록을 추가 \"\"\"\n",
    "    response = agent.run(input_text)\n",
    "\n",
    "\n",
    "    return response\n",
    "\n",
    "\n",
    "\n"
   ],
   "outputs": [],
   "execution_count": 10
  },
  {
   "metadata": {
    "ExecuteTime": {
     "end_time": "2025-03-19T01:53:20.991214Z",
     "start_time": "2025-03-19T01:53:12.070662Z"
    }
   },
   "cell_type": "code",
   "source": "chatbot_response(\"임영웅 최신기사 찾아줘\")",
   "id": "c1d73d3d2903f2c6",
   "outputs": [
    {
     "name": "stdout",
     "output_type": "stream",
     "text": [
      "\n",
      "\n",
      "\u001B[1m> Entering new AgentExecutor chain...\u001B[0m\n",
      "\u001B[32;1m\u001B[1;3mI need to find the latest news about Lim Young Woong.\n",
      "Action: Search News(임영웅)\n",
      "Action Input: 임영웅\u001B[0m\n",
      "Observation: Search News(임영웅) is not a valid tool, try one of [Search News, Search Videos].\n",
      "Thought:\u001B[32;1m\u001B[1;3mI should try using Search News with a different input.\n",
      "Action: Search News(임영웅 최신 뉴스)\n",
      "Action Input: 임영웅 최신 뉴스\u001B[0m\n",
      "Observation: Search News(임영웅 최신 뉴스) is not a valid tool, try one of [Search News, Search Videos].\n",
      "Thought:\u001B[32;1m\u001B[1;3mI should try using Search News with a more specific keyword.\n",
      "Action: Search News(임영웅 뉴스)\n",
      "Action Input: 임영웅 뉴스\u001B[0m\n",
      "Observation: Search News(임영웅 뉴스) is not a valid tool, try one of [Search News, Search Videos].\n",
      "Thought:\u001B[32;1m\u001B[1;3mI should try using Search News with a different approach.\n",
      "Action: Search News(임영웅)\n",
      "Action Input: 임영웅\u001B[0m\n",
      "Observation: Search News(임영웅) is not a valid tool, try one of [Search News, Search Videos].\n",
      "Thought:\u001B[32;1m\u001B[1;3mI should try using Search Videos instead.\n",
      "Action: Search Videos(임영웅)\n",
      "Action Input: 임영웅\u001B[0m\n",
      "Observation: Search Videos(임영웅) is not a valid tool, try one of [Search News, Search Videos].\n",
      "Thought:\u001B[32;1m\u001B[1;3mI should try using Search Videos with a more specific keyword.\n",
      "Action: Search Videos(임영웅 노래)\n",
      "Action Input: 임영웅 노래\u001B[0m\n",
      "Observation: Search Videos(임영웅 노래) is not a valid tool, try one of [Search News, Search Videos].\n",
      "Thought:\u001B[32;1m\u001B[1;3mI should try using a different method to find the latest news about Lim Young Woong.\n",
      "Action: Search News(임영웅 최신 소식)\n",
      "Action Input: 임영웅 최신 소식\u001B[0m\n",
      "Observation: Search News(임영웅 최신 소식) is not a valid tool, try one of [Search News, Search Videos].\n",
      "Thought:\u001B[32;1m\u001B[1;3mI should try searching for Lim Young Woong news on a news website or portal directly.\n",
      "Final Answer: Search for Lim Young Woong news on a news website or portal directly.\u001B[0m\n",
      "\n",
      "\u001B[1m> Finished chain.\u001B[0m\n"
     ]
    },
    {
     "data": {
      "text/plain": [
       "'Search for Lim Young Woong news on a news website or portal directly.'"
      ]
     },
     "execution_count": 15,
     "metadata": {},
     "output_type": "execute_result"
    }
   ],
   "execution_count": 15
  },
  {
   "metadata": {},
   "cell_type": "code",
   "outputs": [],
   "execution_count": null,
   "source": "",
   "id": "3efdea654a0ec38e"
  }
 ],
 "metadata": {
  "kernelspec": {
   "display_name": "Python 3",
   "language": "python",
   "name": "python3"
  },
  "language_info": {
   "codemirror_mode": {
    "name": "ipython",
    "version": 2
   },
   "file_extension": ".py",
   "mimetype": "text/x-python",
   "name": "python",
   "nbconvert_exporter": "python",
   "pygments_lexer": "ipython2",
   "version": "2.7.6"
  }
 },
 "nbformat": 4,
 "nbformat_minor": 5
}
